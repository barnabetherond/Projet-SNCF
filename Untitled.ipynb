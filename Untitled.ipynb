{
 "cells": [
  {
   "cell_type": "code",
   "execution_count": 1,
   "id": "5c1c672c-658e-46d2-9c7d-134154e3446b",
   "metadata": {},
   "outputs": [],
   "source": [
    "import pandas as pd\n",
    "from matplotlib import pyplot as plt\n",
    "import numpy as np\n",
    "import seaborn as sns"
   ]
  },
  {
   "cell_type": "code",
   "execution_count": 2,
   "id": "e513849d-bf0f-4bbe-8740-0266911429a0",
   "metadata": {},
   "outputs": [],
   "source": [
    "accident = pd.read_csv('incidents-de-securite-epsf.csv', sep = ';')\n",
    "retard = pd.read_csv('reglarite-mensuelle-tgv-nationale.csv', sep = ';')\n"
   ]
  },
  {
   "cell_type": "code",
   "execution_count": 5,
   "id": "f7287402-f2b2-454f-b6df-846bcec06624",
   "metadata": {},
   "outputs": [
    {
     "data": {
      "text/plain": [
       "Nature\n",
       "Heurt d'un arbre par un train de voyageurs                                                                                                                                            2\n",
       "Erreur de procédure pour l'exécution d'une manoeuvre à contre-voie.                                                                                                                   2\n",
       "heurt d'une personne par un train de voyageurs                                                                                                                                        2\n",
       "accident de personne                                                                                                                                                                  2\n",
       "Incident caténaire à la suite de la collision d’une pelle mécanique contre la partie neutre d’un transversal de portique souple.                                                      1\n",
       "                                                                                                                                                                                     ..\n",
       "heurt par un train de voyageurs d'un passager tombé d'un train croiseur suite à l'ouverture volontaire d'une porte en marche                                                          1\n",
       "Heurt entre un train de travaux et un train de voyageurs                                                                                                                              1\n",
       "défaut de mesure de protections et passage d'une circulation sur un passage à niveau sans mesures de protections                                                                      1\n",
       "Franchissement du signal C72 fermé par manœuvre de refoulement d’un convoi du GI (Le chef de manœuvre de l’Infralog a omis de demander à l’AC la commande à l’ouverture du signal)    1\n",
       "Heurt mortel d'un Motard sur le PN 54                                                                                                                                                 1\n",
       "Name: count, Length: 233, dtype: int64"
      ]
     },
     "execution_count": 5,
     "metadata": {},
     "output_type": "execute_result"
    }
   ],
   "source": [
    "accident['Nature'].value_counts()"
   ]
  },
  {
   "cell_type": "code",
   "execution_count": 4,
   "id": "1e4cc0f0-4333-492c-80e0-d869b94d89fe",
   "metadata": {},
   "outputs": [
    {
     "data": {
      "text/html": [
       "<div>\n",
       "<style scoped>\n",
       "    .dataframe tbody tr th:only-of-type {\n",
       "        vertical-align: middle;\n",
       "    }\n",
       "\n",
       "    .dataframe tbody tr th {\n",
       "        vertical-align: top;\n",
       "    }\n",
       "\n",
       "    .dataframe thead th {\n",
       "        text-align: right;\n",
       "    }\n",
       "</style>\n",
       "<table border=\"1\" class=\"dataframe\">\n",
       "  <thead>\n",
       "    <tr style=\"text-align: right;\">\n",
       "      <th></th>\n",
       "      <th>Date</th>\n",
       "      <th>Régularité composite</th>\n",
       "      <th>Ponctualité origine</th>\n",
       "    </tr>\n",
       "  </thead>\n",
       "  <tbody>\n",
       "    <tr>\n",
       "      <th>0</th>\n",
       "      <td>2015-01</td>\n",
       "      <td>91.627358</td>\n",
       "      <td>85.280538</td>\n",
       "    </tr>\n",
       "    <tr>\n",
       "      <th>1</th>\n",
       "      <td>2015-02</td>\n",
       "      <td>90.325652</td>\n",
       "      <td>84.248184</td>\n",
       "    </tr>\n",
       "    <tr>\n",
       "      <th>2</th>\n",
       "      <td>2015-03</td>\n",
       "      <td>93.421794</td>\n",
       "      <td>87.453249</td>\n",
       "    </tr>\n",
       "    <tr>\n",
       "      <th>3</th>\n",
       "      <td>2015-04</td>\n",
       "      <td>90.801173</td>\n",
       "      <td>85.342175</td>\n",
       "    </tr>\n",
       "    <tr>\n",
       "      <th>4</th>\n",
       "      <td>2015-05</td>\n",
       "      <td>91.373510</td>\n",
       "      <td>85.048795</td>\n",
       "    </tr>\n",
       "    <tr>\n",
       "      <th>...</th>\n",
       "      <td>...</td>\n",
       "      <td>...</td>\n",
       "      <td>...</td>\n",
       "    </tr>\n",
       "    <tr>\n",
       "      <th>112</th>\n",
       "      <td>2024-05</td>\n",
       "      <td>89.955487</td>\n",
       "      <td>84.807432</td>\n",
       "    </tr>\n",
       "    <tr>\n",
       "      <th>113</th>\n",
       "      <td>2024-06</td>\n",
       "      <td>87.985622</td>\n",
       "      <td>83.475307</td>\n",
       "    </tr>\n",
       "    <tr>\n",
       "      <th>114</th>\n",
       "      <td>2024-07</td>\n",
       "      <td>85.278737</td>\n",
       "      <td>81.391219</td>\n",
       "    </tr>\n",
       "    <tr>\n",
       "      <th>115</th>\n",
       "      <td>2024-08</td>\n",
       "      <td>90.294132</td>\n",
       "      <td>83.815342</td>\n",
       "    </tr>\n",
       "    <tr>\n",
       "      <th>116</th>\n",
       "      <td>2024-09</td>\n",
       "      <td>87.750074</td>\n",
       "      <td>83.315266</td>\n",
       "    </tr>\n",
       "  </tbody>\n",
       "</table>\n",
       "<p>117 rows × 3 columns</p>\n",
       "</div>"
      ],
      "text/plain": [
       "        Date  Régularité composite  Ponctualité origine\n",
       "0    2015-01             91.627358            85.280538\n",
       "1    2015-02             90.325652            84.248184\n",
       "2    2015-03             93.421794            87.453249\n",
       "3    2015-04             90.801173            85.342175\n",
       "4    2015-05             91.373510            85.048795\n",
       "..       ...                   ...                  ...\n",
       "112  2024-05             89.955487            84.807432\n",
       "113  2024-06             87.985622            83.475307\n",
       "114  2024-07             85.278737            81.391219\n",
       "115  2024-08             90.294132            83.815342\n",
       "116  2024-09             87.750074            83.315266\n",
       "\n",
       "[117 rows x 3 columns]"
      ]
     },
     "execution_count": 4,
     "metadata": {},
     "output_type": "execute_result"
    }
   ],
   "source": [
    "retard"
   ]
  },
  {
   "cell_type": "code",
   "execution_count": null,
   "id": "015a1964-d6bb-4559-84c7-b15910a15b80",
   "metadata": {},
   "outputs": [],
   "source": []
  }
 ],
 "metadata": {
  "kernelspec": {
   "display_name": "Python 3 (ipykernel)",
   "language": "python",
   "name": "python3"
  },
  "language_info": {
   "codemirror_mode": {
    "name": "ipython",
    "version": 3
   },
   "file_extension": ".py",
   "mimetype": "text/x-python",
   "name": "python",
   "nbconvert_exporter": "python",
   "pygments_lexer": "ipython3",
   "version": "3.12.4"
  }
 },
 "nbformat": 4,
 "nbformat_minor": 5
}
